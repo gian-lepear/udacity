{
 "cells": [
  {
   "cell_type": "code",
   "execution_count": 1,
   "metadata": {},
   "outputs": [],
   "source": [
    "import pandas as pd\n",
    "import numpy as np\n",
    "import matplotlib.pyplot as plt\n",
    "%matplotlib inline"
   ]
  },
  {
   "cell_type": "code",
   "execution_count": 2,
   "metadata": {},
   "outputs": [],
   "source": [
    "filename = \"turnstile_data_master_with_weather.csv\""
   ]
  },
  {
   "cell_type": "code",
   "execution_count": 3,
   "metadata": {},
   "outputs": [],
   "source": [
    "df= pd.read_csv('turnstile_data_master_with_weather.csv', sep=',', index_col=0)"
   ]
  },
  {
   "cell_type": "code",
   "execution_count": 4,
   "metadata": {},
   "outputs": [],
   "source": [
    "def num_rainy_days(df):\n",
    "    df = df[df['rain']==1].count()\n",
    "    return df['rain']"
   ]
  },
  {
   "cell_type": "code",
   "execution_count": 5,
   "metadata": {},
   "outputs": [],
   "source": [
    "x = num_rainy_days(df)"
   ]
  },
  {
   "cell_type": "code",
   "execution_count": 6,
   "metadata": {},
   "outputs": [],
   "source": [
    "def max_temp_aggregate_by_fog(df):\n",
    "    df = df[df['fog'] == 1]\n",
    "    return df['maxtempi'].max()"
   ]
  },
  {
   "cell_type": "code",
   "execution_count": 7,
   "metadata": {},
   "outputs": [],
   "source": [
    "x = max_temp_aggregate_by_fog(df)"
   ]
  },
  {
   "cell_type": "code",
   "execution_count": 8,
   "metadata": {},
   "outputs": [],
   "source": [
    "def avg_weekend_temperature(filename):\n",
    "    filename['DATEn'] = pd.to_datetime(filename['DATEn'])\n",
    "    filename=filename[filename['DATEn'].dt.weekday < 5]\n",
    "    filename.reset_index(drop=True,inplace=True)\n",
    "    mean_temp_weekends = filename['meantempi'].mean()\n",
    "    return mean_temp_weekends"
   ]
  },
  {
   "cell_type": "code",
   "execution_count": 9,
   "metadata": {},
   "outputs": [],
   "source": [
    "x = avg_weekend_temperature(df)"
   ]
  },
  {
   "cell_type": "code",
   "execution_count": 10,
   "metadata": {},
   "outputs": [],
   "source": [
    "def avg_min_temperature(filename):\n",
    "    filename = filename[(filename['mintempi'] < 55) & (filename['rain'] == 1)]\n",
    "    avg_min_temp_rainy = filename['mintempi'].mean()\n",
    "    return avg_min_temp_rainy"
   ]
  },
  {
   "cell_type": "code",
   "execution_count": 11,
   "metadata": {},
   "outputs": [],
   "source": [
    "x = avg_min_temperature(df)"
   ]
  },
  {
   "cell_type": "code",
   "execution_count": 12,
   "metadata": {},
   "outputs": [],
   "source": [
    "def entries_histogram(turnstile_weather):\n",
    "    plt.figure()\n",
    "    turnstile_weather[['ENTRIESn_hourly', 'rain']][turnstile_weather['rain'] == 1].hist(column='ENTRIESn_hourly')# your code here to plot a historgram for hourly entries when it is raining\n",
    "    turnstile_weather[['ENTRIESn_hourly', 'rain']][turnstile_weather['rain'] == 0].hist(column='ENTRIESn_hourly')# your code here to plot a histogram for hourly entries when it is not raining\n",
    "    return plt"
   ]
  },
  {
   "cell_type": "code",
   "execution_count": 13,
   "metadata": {},
   "outputs": [],
   "source": [
    "#FAZER O EXERCICIO 2.7, DISSERTATIVA"
   ]
  },
  {
   "cell_type": "code",
   "execution_count": 14,
   "metadata": {},
   "outputs": [],
   "source": [
    "def means(turnstile_weather):\n",
    "    with_rain_mean= turnstile_weather['ENTRIESn_hourly'][turnstile_weather['rain'] == 1].mean()\n",
    "    without_rain_mean= turnstile_weather['ENTRIESn_hourly'][turnstile_weather['rain'] == 0].mean()\n",
    "    \n",
    "    return with_rain_mean, without_rain_mean, p # leave this line for the grader"
   ]
  },
  {
   "cell_type": "code",
   "execution_count": 28,
   "metadata": {},
   "outputs": [
    {
     "name": "stdout",
     "output_type": "stream",
     "text": [
      "R001\t0.0\n",
      "R001\t217.0\n",
      "R001\t890.0\n",
      "R001\t2451.0\n",
      "R001\t4400.0\n",
      "R001\t3372.0\n",
      "R002\t0.0\n",
      "R002\t42.0\n",
      "R002\t50.0\n",
      "R002\t316.0\n",
      "R002\t633.0\n",
      "R002\t639.0\n",
      "R003\t0.0\n",
      "R003\t0.0\n",
      "R003\t0.0\n",
      "R003\t0.0\n",
      "R003\t0.0\n",
      "R004\t0.0\n",
      "R004\t0.0\n",
      "R004\t0.0\n",
      "R004\t0.0\n",
      "R004\t0.0\n",
      "R004\t0.0\n",
      "R005\t0.0\n",
      "R005\t0.0\n",
      "R005\t0.0\n",
      "R005\t1.0\n",
      "R005\t0.0\n",
      "R006\t0.0\n",
      "R006\t0.0\n",
      "R006\t2.0\n",
      "R006\t0.0\n",
      "R006\t2.0\n",
      "R006\t1.0\n",
      "R007\t0.0\n",
      "R007\t0.0\n",
      "R007\t0.0\n",
      "R007\t0.0\n",
      "R008\t0.0\n",
      "R008\t0.0\n",
      "R008\t0.0\n",
      "R008\t0.0\n",
      "R008\t0.0\n",
      "R009\t0.0\n",
      "R009\t0.0\n",
      "R009\t1.0\n",
      "R009\t0.0\n",
      "R009\t0.0\n",
      "R010\t0.0\n",
      "R010\t1643.0\n"
     ]
    }
   ],
   "source": [
    "##MAPPER AQUI ->>>>\n",
    "y = []\n",
    "for x in df[['UNIT', 'ENTRIESn_hourly']].head(50).itertuples():\n",
    "    print('{0}\\t{1}'.format(x.UNIT, x.ENTRIESn_hourly))\n",
    "    y.append('{0}\\t{1}'.format(x.UNIT, x.ENTRIESn_hourly))"
   ]
  },
  {
   "cell_type": "code",
   "execution_count": 43,
   "metadata": {},
   "outputs": [
    {
     "ename": "IndentationError",
     "evalue": "unexpected indent (<ipython-input-43-7e3ab3dfda7f>, line 7)",
     "output_type": "error",
     "traceback": [
      "\u001b[1;36m  File \u001b[1;32m\"<ipython-input-43-7e3ab3dfda7f>\"\u001b[1;36m, line \u001b[1;32m7\u001b[0m\n\u001b[1;33m    try:\u001b[0m\n\u001b[1;37m    ^\u001b[0m\n\u001b[1;31mIndentationError\u001b[0m\u001b[1;31m:\u001b[0m unexpected indent\n"
     ]
    }
   ],
   "source": [
    "##REDUCER AQUI ->>>>\n",
    "current_unit = None\n",
    "current_entries = 0\n",
    "for word in y:\n",
    "    unit, entries = word.split('\\t')\n",
    "    entries = int(entries)\n",
    "        \n",
    "    if current_unit == unit:\n",
    "        current_entries += entries\n",
    "    else:\n",
    "        if current_unit:\n",
    "            # write result to STDOUT\n",
    "            print('{0}/{1}'.format(current_unit, current_entries))\n",
    "        current_entries = entries\n",
    "        current_unit = unit\n",
    "    if current_unit == unit:\n",
    "        print('{0}/{1}'.format(current_unit, current_entries))"
   ]
  },
  {
   "cell_type": "code",
   "execution_count": null,
   "metadata": {},
   "outputs": [],
   "source": [
    "for line in sys.stdin:\n",
    "    # remove leading and trailing whitespace\n",
    "    line = line.strip()\n",
    "\n",
    "    # parse the input we got from mapper.py\n",
    "    word, count = line.split('\\t', 1)\n",
    "    if current_word == word:\n",
    "        current_count += count\n",
    "    else:\n",
    "        if current_word:\n",
    "            # write result to STDOUT\n",
    "            print '%s\\t%s' % (current_word, current_count)\n",
    "        current_count = count\n",
    "        current_word = word\n",
    "\n",
    "# do not forget to output the last word if needed!\n",
    "if current_word == word:\n",
    "    print '%s\\t%s' % (current_word, current_count)"
   ]
  },
  {
   "cell_type": "code",
   "execution_count": null,
   "metadata": {},
   "outputs": [],
   "source": []
  }
 ],
 "metadata": {
  "kernelspec": {
   "display_name": "Python 3",
   "language": "python",
   "name": "python3"
  },
  "language_info": {
   "codemirror_mode": {
    "name": "ipython",
    "version": 3
   },
   "file_extension": ".py",
   "mimetype": "text/x-python",
   "name": "python",
   "nbconvert_exporter": "python",
   "pygments_lexer": "ipython3",
   "version": "3.6.1"
  }
 },
 "nbformat": 4,
 "nbformat_minor": 2
}
