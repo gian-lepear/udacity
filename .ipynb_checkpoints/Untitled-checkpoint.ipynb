{
 "cells": [
  {
   "cell_type": "code",
   "execution_count": 8,
   "metadata": {},
   "outputs": [],
   "source": [
    "import csv\n",
    "import sys\n",
    "import time"
   ]
  },
  {
   "cell_type": "code",
   "execution_count": 9,
   "metadata": {},
   "outputs": [],
   "source": [
    "def mapper():\n",
    "    primeiraLinha = True\n",
    "    for line in sys.stdin:\n",
    "        if primeiraLinha:    #skip first line\n",
    "            primeiraLinha = False\n",
    "            continue\n",
    "        data = line.strip().split(',')\n",
    "        index, UNIT, DATEn, TIMEn, Hour, DESCn, ENTRIESn_hourly, EXITSn_hourly, maxpressurei, maxdewpti, mindewpti,minpressurei, meandewpti, meanpressurei, fog, rain,meanwindspdi, mintempi, meantempi, maxtempi, precipi,thunder = data\n",
    "        print('{0}\\t{1}'.format(UNIT, ENTRIESn_hourly),file=open('mapper_result.txt','a+'), flush=True)"
   ]
  },
  {
   "cell_type": "code",
   "execution_count": 10,
   "metadata": {},
   "outputs": [],
   "source": [
    "mapper()\n",
    "sys.stdin = open('turnstile_data_master_with_weather.csv')\n",
    "sys.stdout = open('mapper_result_2.txt', 'w')"
   ]
  },
  {
   "cell_type": "code",
   "execution_count": 11,
   "metadata": {},
   "outputs": [],
   "source": [
    "def reducer():\n",
    "    primeiraLinha = True\n",
    "    ENTRIESn_hourlyTotal =0\n",
    "    oldUNIT = None\n",
    "    for line in sys.stdin:\n",
    "        if primeiraLinha:    #skip first line\n",
    "            primeiraLinha = False\n",
    "            continue\n",
    "        data = line.strip().split('\\t')\n",
    "        if len(data) != 2:\n",
    "            continue\n",
    "        thisUNIT, thisENTRIES = data\n",
    "        \n",
    "        if oldUNIT and oldUNIT != thisUNIT:\n",
    "            print('{0}\\t{1}'.format(oldUNIT, ENTRIESn_hourlyTotal), file=open('reducer_result.txt', 'a+'), flush=True)\n",
    "        \n",
    "            ENTRIESn_hourlyTotal = 0\n",
    "        oldUNIT = thisUNIT\n",
    "        ENTRIESn_hourlyTotal += float(thisENTRIES)\n",
    "        \n",
    "        if oldUNIT == None:\n",
    "            print('{0}\\t{1}'.format(oldUNIT, ENTRIESn_hourlyTotal), file=open('reducer_result.txt', 'a+'), flush=True)"
   ]
  },
  {
   "cell_type": "code",
   "execution_count": 13,
   "metadata": {},
   "outputs": [
    {
     "ename": "ValueError",
     "evalue": "could not convert string to float: 'ENTRIESn_hourly'",
     "output_type": "error",
     "traceback": [
      "\u001b[1;31m---------------------------------------------------------------------------\u001b[0m",
      "\u001b[1;31mValueError\u001b[0m                                Traceback (most recent call last)",
      "\u001b[1;32m<ipython-input-13-ce019923aeee>\u001b[0m in \u001b[0;36m<module>\u001b[1;34m()\u001b[0m\n\u001b[1;32m----> 1\u001b[1;33m \u001b[0mreducer\u001b[0m\u001b[1;33m(\u001b[0m\u001b[1;33m)\u001b[0m\u001b[1;33m\u001b[0m\u001b[0m\n\u001b[0m\u001b[0;32m      2\u001b[0m \u001b[0msys\u001b[0m\u001b[1;33m.\u001b[0m\u001b[0mstdin\u001b[0m \u001b[1;33m=\u001b[0m \u001b[0mopen\u001b[0m\u001b[1;33m(\u001b[0m\u001b[1;34m'mapper_result.txt'\u001b[0m\u001b[1;33m)\u001b[0m\u001b[1;33m\u001b[0m\u001b[0m\n\u001b[0;32m      3\u001b[0m \u001b[0msys\u001b[0m\u001b[1;33m.\u001b[0m\u001b[0mstdout\u001b[0m \u001b[1;33m=\u001b[0m \u001b[0mopen\u001b[0m\u001b[1;33m(\u001b[0m\u001b[1;34m'reducer_result_2.txt'\u001b[0m\u001b[1;33m,\u001b[0m \u001b[1;34m'w'\u001b[0m\u001b[1;33m)\u001b[0m\u001b[1;33m\u001b[0m\u001b[0m\n",
      "\u001b[1;32m<ipython-input-11-df7862ce55cf>\u001b[0m in \u001b[0;36mreducer\u001b[1;34m()\u001b[0m\n\u001b[0;32m     13\u001b[0m             \u001b[0mENTRIESn_hourlyTotal\u001b[0m \u001b[1;33m=\u001b[0m \u001b[1;36m0\u001b[0m\u001b[1;33m\u001b[0m\u001b[0m\n\u001b[0;32m     14\u001b[0m         \u001b[0moldUNIT\u001b[0m \u001b[1;33m=\u001b[0m \u001b[0mthisUNIT\u001b[0m\u001b[1;33m\u001b[0m\u001b[0m\n\u001b[1;32m---> 15\u001b[1;33m         \u001b[0mENTRIESn_hourlyTotal\u001b[0m \u001b[1;33m+=\u001b[0m \u001b[0mfloat\u001b[0m\u001b[1;33m(\u001b[0m\u001b[0mthisENTRIES\u001b[0m\u001b[1;33m)\u001b[0m\u001b[1;33m\u001b[0m\u001b[0m\n\u001b[0m\u001b[0;32m     16\u001b[0m \u001b[1;33m\u001b[0m\u001b[0m\n\u001b[0;32m     17\u001b[0m         \u001b[1;32mif\u001b[0m \u001b[0moldUNIT\u001b[0m \u001b[1;33m==\u001b[0m \u001b[1;32mNone\u001b[0m\u001b[1;33m:\u001b[0m\u001b[1;33m\u001b[0m\u001b[0m\n",
      "\u001b[1;31mValueError\u001b[0m: could not convert string to float: 'ENTRIESn_hourly'"
     ]
    }
   ],
   "source": [
    "reducer()\n",
    "sys.stdin = open('mapper_result.txt')\n",
    "sys.stdout = open('reducer_result_2.txt', 'w')"
   ]
  },
  {
   "cell_type": "code",
   "execution_count": null,
   "metadata": {},
   "outputs": [],
   "source": []
  }
 ],
 "metadata": {
  "kernelspec": {
   "display_name": "Python 3",
   "language": "python",
   "name": "python3"
  },
  "language_info": {
   "codemirror_mode": {
    "name": "ipython",
    "version": 3
   },
   "file_extension": ".py",
   "mimetype": "text/x-python",
   "name": "python",
   "nbconvert_exporter": "python",
   "pygments_lexer": "ipython3",
   "version": "3.6.1"
  }
 },
 "nbformat": 4,
 "nbformat_minor": 2
}
