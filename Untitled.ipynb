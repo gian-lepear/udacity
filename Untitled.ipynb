{
 "cells": [
  {
   "cell_type": "code",
   "execution_count": 2,
   "metadata": {},
   "outputs": [],
   "source": [
    "import csv\n",
    "import sys\n",
    "import time"
   ]
  },
  {
   "cell_type": "code",
   "execution_count": 11,
   "metadata": {},
   "outputs": [],
   "source": [
    "def mapper():\n",
    "    for line in sys.stdin:\n",
    "        data = line.strip().split('\\t')\n",
    "        index, UNIT, DATEn, TIMEn, Hour, DESCn, ENTRIESn_hourly, EXITSn_hourly, maxpressurei, maxdewpti, mindewpti,minpressurei, meandewpti, meanpressurei, fog, rain,meanwindspdi, mintempi, meantempi, maxtempi, precipi,thunder = data\n",
    "        print('{0}\\t{1}'.format(UNIT, ENTRIESn_hourly))"
   ]
  },
  {
   "cell_type": "code",
   "execution_count": 12,
   "metadata": {},
   "outputs": [],
   "source": [
    "def reducer():\n",
    "    ENTRIESn_hourlyTotal =0\n",
    "    oldUNIT = None\n",
    "    for line in sys.stdin:\n",
    "        data = line.strip().split('\\t')\n",
    "        if len(data) != 2:\n",
    "            continue\n",
    "        thisUNIT, thisENTRIES = data\n",
    "        \n",
    "        if oldUNIT and oldUNIT != thisUNIT:\n",
    "            print('{0}\\t{1}'.format(oldUNIT, ENTRIESn_hourlyTotal))\n",
    "        \n",
    "            ENTRIESn_hourlyTotal = 0\n",
    "        oldUNIT = thisUNIT\n",
    "        ENTRIESn_hourlyTotal += float(thisENTRIES)\n",
    "        \n",
    "        if oldUNIT == None:\n",
    "            print('{0}\\t{1}'.format(oldUNIT, ENTRIESn_hourlyTotal))"
   ]
  },
  {
   "cell_type": "code",
   "execution_count": null,
   "metadata": {},
   "outputs": [],
   "source": []
  },
  {
   "cell_type": "code",
   "execution_count": null,
   "metadata": {},
   "outputs": [],
   "source": []
  }
 ],
 "metadata": {
  "kernelspec": {
   "display_name": "Python 3",
   "language": "python",
   "name": "python3"
  },
  "language_info": {
   "codemirror_mode": {
    "name": "ipython",
    "version": 3
   },
   "file_extension": ".py",
   "mimetype": "text/x-python",
   "name": "python",
   "nbconvert_exporter": "python",
   "pygments_lexer": "ipython3",
   "version": "3.6.3"
  }
 },
 "nbformat": 4,
 "nbformat_minor": 2
}
