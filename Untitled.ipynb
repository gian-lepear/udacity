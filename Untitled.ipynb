{
 "cells": [
  {
   "cell_type": "code",
   "execution_count": 1,
   "metadata": {},
   "outputs": [],
   "source": [
    "import csv\n",
    "import sys\n",
    "import time"
   ]
  },
  {
   "cell_type": "code",
   "execution_count": 2,
   "metadata": {},
   "outputs": [],
   "source": [
    "def mapper():\n",
    "    primeiraLinha = True\n",
    "    for line in sys.stdin:\n",
    "        if primeiraLinha:    #skip first line\n",
    "            primeiraLinha = False\n",
    "            continue\n",
    "        data = line.strip().split(',')\n",
    "        index, UNIT, DATEn, TIMEn, Hour, DESCn, ENTRIESn_hourly, EXITSn_hourly, maxpressurei, maxdewpti, mindewpti,minpressurei, meandewpti, meanpressurei, fog, rain,meanwindspdi, mintempi, meantempi, maxtempi, precipi,thunder = data\n",
    "        print('{0}\\t{1}'.format(UNIT, ENTRIESn_hourly),file=open('mapper_result.txt','a+'), flush=True)"
   ]
  },
  {
   "cell_type": "code",
   "execution_count": 4,
   "metadata": {},
   "outputs": [],
   "source": [
    "mapper()\n",
    "sys.stdin = open('turnstile_data_master_with_weather.csv')\n",
    "sys.stdout = open('mapper_result_2.txt', 'w')"
   ]
  },
  {
   "cell_type": "code",
   "execution_count": 5,
   "metadata": {},
   "outputs": [],
   "source": [
    "def reducer():\n",
    "    primeiraLinha = True\n",
    "    ENTRIESn_hourlyTotal =0\n",
    "    oldUNIT = None\n",
    "    for line in sys.stdin:\n",
    "        if primeiraLinha:    #skip first line\n",
    "            primeiraLinha = False\n",
    "            continue\n",
    "        data = line.strip().split('\\t')\n",
    "        if len(data) != 2:\n",
    "            continue\n",
    "        thisUNIT, thisENTRIES = data\n",
    "        \n",
    "        if oldUNIT and oldUNIT != thisUNIT:\n",
    "            print('{0}\\t{1}'.format(oldUNIT, ENTRIESn_hourlyTotal), file=open('reducer_result.txt', 'a+'), flush=True)\n",
    "        \n",
    "            ENTRIESn_hourlyTotal = 0\n",
    "        oldUNIT = thisUNIT\n",
    "        ENTRIESn_hourlyTotal += float(thisENTRIES)\n",
    "        \n",
    "        if oldUNIT == None:\n",
    "            print('{0}\\t{1}'.format(oldUNIT, ENTRIESn_hourlyTotal), file=open('reducer_result.txt', 'a+'), flush=True)"
   ]
  },
  {
   "cell_type": "code",
   "execution_count": 7,
   "metadata": {},
   "outputs": [],
   "source": [
    "reducer()\n",
    "sys.stdin = open('mapper_result.txt')\n",
    "sys.stdout = open('reducer_result_2.txt', 'w')"
   ]
  },
  {
   "cell_type": "code",
   "execution_count": null,
   "metadata": {},
   "outputs": [],
   "source": []
  }
 ],
 "metadata": {
  "kernelspec": {
   "display_name": "Python 3",
   "language": "python",
   "name": "python3"
  },
  "language_info": {
   "codemirror_mode": {
    "name": "ipython",
    "version": 3
   },
   "file_extension": ".py",
   "mimetype": "text/x-python",
   "name": "python",
   "nbconvert_exporter": "python",
   "pygments_lexer": "ipython3",
   "version": "3.6.1"
  }
 },
 "nbformat": 4,
 "nbformat_minor": 2
}
