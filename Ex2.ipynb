{
 "cells": [
  {
   "cell_type": "code",
   "execution_count": 1,
   "metadata": {},
   "outputs": [],
   "source": [
    "import pandas as pd\n",
    "import numpy as np\n",
    "import matplotlib.pyplot as plt\n",
    "%matplotlib inline"
   ]
  },
  {
   "cell_type": "code",
   "execution_count": 2,
   "metadata": {},
   "outputs": [],
   "source": [
    "filename = \"turnstile_data_master_with_weather.csv\""
   ]
  },
  {
   "cell_type": "code",
   "execution_count": 3,
   "metadata": {},
   "outputs": [],
   "source": [
    "df= pd.read_csv('turnstile_data_master_with_weather.csv', sep=',', index_col=0)"
   ]
  },
  {
   "cell_type": "code",
   "execution_count": 4,
   "metadata": {},
   "outputs": [],
   "source": [
    "def num_rainy_days(df):\n",
    "    df = df[df['rain']==1].count()\n",
    "    return df['rain']"
   ]
  },
  {
   "cell_type": "code",
   "execution_count": 5,
   "metadata": {},
   "outputs": [],
   "source": [
    "x = num_rainy_days(df)"
   ]
  },
  {
   "cell_type": "code",
   "execution_count": 6,
   "metadata": {},
   "outputs": [],
   "source": [
    "def max_temp_aggregate_by_fog(df):\n",
    "    df = df[df['fog'] == 1]\n",
    "    return df['maxtempi'].max()"
   ]
  },
  {
   "cell_type": "code",
   "execution_count": 7,
   "metadata": {},
   "outputs": [],
   "source": [
    "x = max_temp_aggregate_by_fog(df)"
   ]
  },
  {
   "cell_type": "code",
   "execution_count": 8,
   "metadata": {},
   "outputs": [],
   "source": [
    "def avg_weekend_temperature(filename):\n",
    "    filename['DATEn'] = pd.to_datetime(filename['DATEn'])\n",
    "    filename=filename[filename['DATEn'].dt.weekday < 5]\n",
    "    filename.reset_index(drop=True,inplace=True)\n",
    "    mean_temp_weekends = filename['meantempi'].mean()\n",
    "    return mean_temp_weekends"
   ]
  },
  {
   "cell_type": "code",
   "execution_count": 9,
   "metadata": {},
   "outputs": [],
   "source": [
    "x = avg_weekend_temperature(df)"
   ]
  },
  {
   "cell_type": "code",
   "execution_count": 10,
   "metadata": {},
   "outputs": [],
   "source": [
    "def avg_min_temperature(filename):\n",
    "    filename = filename[(filename['mintempi'] < 55) & (filename['rain'] == 1)]\n",
    "    avg_min_temp_rainy = filename['mintempi'].mean()\n",
    "    return avg_min_temp_rainy"
   ]
  },
  {
   "cell_type": "code",
   "execution_count": 11,
   "metadata": {},
   "outputs": [],
   "source": [
    "x = avg_min_temperature(df)"
   ]
  },
  {
   "cell_type": "code",
   "execution_count": 12,
   "metadata": {},
   "outputs": [],
   "source": [
    "def entries_histogram(turnstile_weather):\n",
    "    plt.figure()\n",
    "    turnstile_weather[['ENTRIESn_hourly', 'rain']][turnstile_weather['rain'] == 1].hist(column='ENTRIESn_hourly')# your code here to plot a historgram for hourly entries when it is raining\n",
    "    turnstile_weather[['ENTRIESn_hourly', 'rain']][turnstile_weather['rain'] == 0].hist(column='ENTRIESn_hourly')# your code here to plot a histogram for hourly entries when it is not raining\n",
    "    return plt"
   ]
  },
  {
   "cell_type": "code",
   "execution_count": 13,
   "metadata": {},
   "outputs": [],
   "source": [
    "#FAZER O EXERCICIO 2.7, DISSERTATIVA"
   ]
  },
  {
   "cell_type": "code",
   "execution_count": 14,
   "metadata": {},
   "outputs": [],
   "source": [
    "def means(turnstile_weather):\n",
    "    with_rain_mean= turnstile_weather['ENTRIESn_hourly'][turnstile_weather['rain'] == 1].mean()\n",
    "    without_rain_mean= turnstile_weather['ENTRIESn_hourly'][turnstile_weather['rain'] == 0].mean()\n",
    "    \n",
    "    return with_rain_mean, without_rain_mean, p # leave this line for the grader"
   ]
  }
 ],
 "metadata": {
  "kernelspec": {
   "display_name": "Python 3",
   "language": "python",
   "name": "python3"
  },
  "language_info": {
   "codemirror_mode": {
    "name": "ipython",
    "version": 3
   },
   "file_extension": ".py",
   "mimetype": "text/x-python",
   "name": "python",
   "nbconvert_exporter": "python",
   "pygments_lexer": "ipython3",
   "version": "3.6.3"
  }
 },
 "nbformat": 4,
 "nbformat_minor": 2
}
